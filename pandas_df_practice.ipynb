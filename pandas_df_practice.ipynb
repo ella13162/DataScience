{
  "nbformat": 4,
  "nbformat_minor": 0,
  "metadata": {
    "colab": {
      "provenance": [],
      "include_colab_link": true
    },
    "kernelspec": {
      "name": "python3",
      "display_name": "Python 3"
    },
    "language_info": {
      "name": "python"
    }
  },
  "cells": [
    {
      "cell_type": "markdown",
      "metadata": {
        "id": "view-in-github",
        "colab_type": "text"
      },
      "source": [
        "<a href=\"https://colab.research.google.com/github/ella13162/DataScience/blob/main/pandas_df_practice.ipynb\" target=\"_parent\"><img src=\"https://colab.research.google.com/assets/colab-badge.svg\" alt=\"Open In Colab\"/></a>"
      ]
    },
    {
      "cell_type": "code",
      "execution_count": null,
      "metadata": {
        "colab": {
          "base_uri": "https://localhost:8080/",
          "height": 74
        },
        "id": "owXJq-zWimUD",
        "outputId": "e4896a11-fb5e-4f7e-8fd2-d6c8f3af50b0"
      },
      "outputs": [
        {
          "output_type": "display_data",
          "data": {
            "text/plain": [
              "<IPython.core.display.HTML object>"
            ],
            "text/html": [
              "\n",
              "     <input type=\"file\" id=\"files-a8ab092c-b209-4469-b369-48db908caf26\" name=\"files[]\" multiple disabled\n",
              "        style=\"border:none\" />\n",
              "     <output id=\"result-a8ab092c-b209-4469-b369-48db908caf26\">\n",
              "      Upload widget is only available when the cell has been executed in the\n",
              "      current browser session. Please rerun this cell to enable.\n",
              "      </output>\n",
              "      <script>// Copyright 2017 Google LLC\n",
              "//\n",
              "// Licensed under the Apache License, Version 2.0 (the \"License\");\n",
              "// you may not use this file except in compliance with the License.\n",
              "// You may obtain a copy of the License at\n",
              "//\n",
              "//      http://www.apache.org/licenses/LICENSE-2.0\n",
              "//\n",
              "// Unless required by applicable law or agreed to in writing, software\n",
              "// distributed under the License is distributed on an \"AS IS\" BASIS,\n",
              "// WITHOUT WARRANTIES OR CONDITIONS OF ANY KIND, either express or implied.\n",
              "// See the License for the specific language governing permissions and\n",
              "// limitations under the License.\n",
              "\n",
              "/**\n",
              " * @fileoverview Helpers for google.colab Python module.\n",
              " */\n",
              "(function(scope) {\n",
              "function span(text, styleAttributes = {}) {\n",
              "  const element = document.createElement('span');\n",
              "  element.textContent = text;\n",
              "  for (const key of Object.keys(styleAttributes)) {\n",
              "    element.style[key] = styleAttributes[key];\n",
              "  }\n",
              "  return element;\n",
              "}\n",
              "\n",
              "// Max number of bytes which will be uploaded at a time.\n",
              "const MAX_PAYLOAD_SIZE = 100 * 1024;\n",
              "\n",
              "function _uploadFiles(inputId, outputId) {\n",
              "  const steps = uploadFilesStep(inputId, outputId);\n",
              "  const outputElement = document.getElementById(outputId);\n",
              "  // Cache steps on the outputElement to make it available for the next call\n",
              "  // to uploadFilesContinue from Python.\n",
              "  outputElement.steps = steps;\n",
              "\n",
              "  return _uploadFilesContinue(outputId);\n",
              "}\n",
              "\n",
              "// This is roughly an async generator (not supported in the browser yet),\n",
              "// where there are multiple asynchronous steps and the Python side is going\n",
              "// to poll for completion of each step.\n",
              "// This uses a Promise to block the python side on completion of each step,\n",
              "// then passes the result of the previous step as the input to the next step.\n",
              "function _uploadFilesContinue(outputId) {\n",
              "  const outputElement = document.getElementById(outputId);\n",
              "  const steps = outputElement.steps;\n",
              "\n",
              "  const next = steps.next(outputElement.lastPromiseValue);\n",
              "  return Promise.resolve(next.value.promise).then((value) => {\n",
              "    // Cache the last promise value to make it available to the next\n",
              "    // step of the generator.\n",
              "    outputElement.lastPromiseValue = value;\n",
              "    return next.value.response;\n",
              "  });\n",
              "}\n",
              "\n",
              "/**\n",
              " * Generator function which is called between each async step of the upload\n",
              " * process.\n",
              " * @param {string} inputId Element ID of the input file picker element.\n",
              " * @param {string} outputId Element ID of the output display.\n",
              " * @return {!Iterable<!Object>} Iterable of next steps.\n",
              " */\n",
              "function* uploadFilesStep(inputId, outputId) {\n",
              "  const inputElement = document.getElementById(inputId);\n",
              "  inputElement.disabled = false;\n",
              "\n",
              "  const outputElement = document.getElementById(outputId);\n",
              "  outputElement.innerHTML = '';\n",
              "\n",
              "  const pickedPromise = new Promise((resolve) => {\n",
              "    inputElement.addEventListener('change', (e) => {\n",
              "      resolve(e.target.files);\n",
              "    });\n",
              "  });\n",
              "\n",
              "  const cancel = document.createElement('button');\n",
              "  inputElement.parentElement.appendChild(cancel);\n",
              "  cancel.textContent = 'Cancel upload';\n",
              "  const cancelPromise = new Promise((resolve) => {\n",
              "    cancel.onclick = () => {\n",
              "      resolve(null);\n",
              "    };\n",
              "  });\n",
              "\n",
              "  // Wait for the user to pick the files.\n",
              "  const files = yield {\n",
              "    promise: Promise.race([pickedPromise, cancelPromise]),\n",
              "    response: {\n",
              "      action: 'starting',\n",
              "    }\n",
              "  };\n",
              "\n",
              "  cancel.remove();\n",
              "\n",
              "  // Disable the input element since further picks are not allowed.\n",
              "  inputElement.disabled = true;\n",
              "\n",
              "  if (!files) {\n",
              "    return {\n",
              "      response: {\n",
              "        action: 'complete',\n",
              "      }\n",
              "    };\n",
              "  }\n",
              "\n",
              "  for (const file of files) {\n",
              "    const li = document.createElement('li');\n",
              "    li.append(span(file.name, {fontWeight: 'bold'}));\n",
              "    li.append(span(\n",
              "        `(${file.type || 'n/a'}) - ${file.size} bytes, ` +\n",
              "        `last modified: ${\n",
              "            file.lastModifiedDate ? file.lastModifiedDate.toLocaleDateString() :\n",
              "                                    'n/a'} - `));\n",
              "    const percent = span('0% done');\n",
              "    li.appendChild(percent);\n",
              "\n",
              "    outputElement.appendChild(li);\n",
              "\n",
              "    const fileDataPromise = new Promise((resolve) => {\n",
              "      const reader = new FileReader();\n",
              "      reader.onload = (e) => {\n",
              "        resolve(e.target.result);\n",
              "      };\n",
              "      reader.readAsArrayBuffer(file);\n",
              "    });\n",
              "    // Wait for the data to be ready.\n",
              "    let fileData = yield {\n",
              "      promise: fileDataPromise,\n",
              "      response: {\n",
              "        action: 'continue',\n",
              "      }\n",
              "    };\n",
              "\n",
              "    // Use a chunked sending to avoid message size limits. See b/62115660.\n",
              "    let position = 0;\n",
              "    do {\n",
              "      const length = Math.min(fileData.byteLength - position, MAX_PAYLOAD_SIZE);\n",
              "      const chunk = new Uint8Array(fileData, position, length);\n",
              "      position += length;\n",
              "\n",
              "      const base64 = btoa(String.fromCharCode.apply(null, chunk));\n",
              "      yield {\n",
              "        response: {\n",
              "          action: 'append',\n",
              "          file: file.name,\n",
              "          data: base64,\n",
              "        },\n",
              "      };\n",
              "\n",
              "      let percentDone = fileData.byteLength === 0 ?\n",
              "          100 :\n",
              "          Math.round((position / fileData.byteLength) * 100);\n",
              "      percent.textContent = `${percentDone}% done`;\n",
              "\n",
              "    } while (position < fileData.byteLength);\n",
              "  }\n",
              "\n",
              "  // All done.\n",
              "  yield {\n",
              "    response: {\n",
              "      action: 'complete',\n",
              "    }\n",
              "  };\n",
              "}\n",
              "\n",
              "scope.google = scope.google || {};\n",
              "scope.google.colab = scope.google.colab || {};\n",
              "scope.google.colab._files = {\n",
              "  _uploadFiles,\n",
              "  _uploadFilesContinue,\n",
              "};\n",
              "})(self);\n",
              "</script> "
            ]
          },
          "metadata": {}
        },
        {
          "output_type": "stream",
          "name": "stdout",
          "text": [
            "Saving MentalHQ2020withHeader.csv to MentalHQ2020withHeader.csv\n"
          ]
        }
      ],
      "source": [
        "# This first cell is necessary only if you use Google Colab\n",
        "# In jupyter, you can delete it\n",
        "import io\n",
        "from google.colab import files\n",
        "uploaded = files.upload()"
      ]
    },
    {
      "cell_type": "code",
      "source": [
        "# Import the Pandas library and give it a nickname of 'pd'\n",
        "# Pandas is a data manipulation and analysis library\n",
        "import pandas as pd"
      ],
      "metadata": {
        "id": "7g_M5TQRi-Aw"
      },
      "execution_count": null,
      "outputs": []
    },
    {
      "cell_type": "code",
      "source": [
        "# Read the csv file and save it in a variable\n",
        "\n",
        "# for google colab\n",
        "df = pd.read_csv(io.BytesIO(uploaded['MentalHQ2020withHeader.csv']))\n",
        "# For jupyter\n",
        "# df = pd.read_csv('MentalHQ2020withHeader.csv')"
      ],
      "metadata": {
        "id": "8bkTCwxhtCe5"
      },
      "execution_count": null,
      "outputs": []
    },
    {
      "cell_type": "markdown",
      "source": [
        "### **In Pandas, instead of a typical Python array, we use DataFrames**\n",
        "\n",
        "The Pandas DataFrame is a structure that contains two-dimensional data and its corresponding labels. DataFrames are widely used in data science, machine learning, scientific computing, and many other data-intensive fields.\n",
        "\n",
        "DataFrames are similar to SQL tables or Excel spreadsheets, you can think of them as tables of data, that also carry metadata (descriptive information) for your dataset."
      ],
      "metadata": {
        "id": "r_0jOrNvSR7m"
      }
    },
    {
      "cell_type": "code",
      "source": [
        "df # same as writing print(df)"
      ],
      "metadata": {
        "id": "XN0N4AJyuVut"
      },
      "execution_count": null,
      "outputs": []
    },
    {
      "cell_type": "code",
      "source": [
        "df.head(10) # returns the first n rows, as specified within the ()\n",
        "            # if no number is given, it will return the first 5 rows\n",
        "df.tail() # returns the last n rows, as specified within the ()"
      ],
      "metadata": {
        "id": "KltOsV7dujmb"
      },
      "execution_count": null,
      "outputs": []
    },
    {
      "cell_type": "code",
      "source": [
        "df.info() # returns metadata for your DataFrame"
      ],
      "metadata": {
        "id": "f65fsmPlvEIk"
      },
      "execution_count": null,
      "outputs": []
    },
    {
      "cell_type": "code",
      "source": [
        "df['gender'] # returns the 'gender' column\n",
        "\n",
        "df[['dob','gender']].loc[50:60] # returns the columns 'dob' and 'gender'\n",
        "                                # the .loc method specifies a range of rows to be returned"
      ],
      "metadata": {
        "colab": {
          "base_uri": "https://localhost:8080/",
          "height": 394
        },
        "id": "c-fj7ASav_34",
        "outputId": "7036b7a2-ff04-4596-d5d1-2ea9a8271a01"
      },
      "execution_count": null,
      "outputs": [
        {
          "output_type": "execute_result",
          "data": {
            "text/plain": [
              "           dob  gender\n",
              "50  31/01/1992  Female\n",
              "51  11/07/2003  Female\n",
              "52  09/10/1993  Female\n",
              "53         NaN  Female\n",
              "54  04/03/1992  Female\n",
              "55  22/02/1996  Female\n",
              "56  16/01/1994  Female\n",
              "57  28/10/1990  Female\n",
              "58  03/01/1982  Female\n",
              "59  04/03/1992  Female\n",
              "60  30/07/1993  Female"
            ],
            "text/html": [
              "\n",
              "  <div id=\"df-e0d67128-3743-47d3-9853-8628b26c6190\">\n",
              "    <div class=\"colab-df-container\">\n",
              "      <div>\n",
              "<style scoped>\n",
              "    .dataframe tbody tr th:only-of-type {\n",
              "        vertical-align: middle;\n",
              "    }\n",
              "\n",
              "    .dataframe tbody tr th {\n",
              "        vertical-align: top;\n",
              "    }\n",
              "\n",
              "    .dataframe thead th {\n",
              "        text-align: right;\n",
              "    }\n",
              "</style>\n",
              "<table border=\"1\" class=\"dataframe\">\n",
              "  <thead>\n",
              "    <tr style=\"text-align: right;\">\n",
              "      <th></th>\n",
              "      <th>dob</th>\n",
              "      <th>gender</th>\n",
              "    </tr>\n",
              "  </thead>\n",
              "  <tbody>\n",
              "    <tr>\n",
              "      <th>50</th>\n",
              "      <td>31/01/1992</td>\n",
              "      <td>Female</td>\n",
              "    </tr>\n",
              "    <tr>\n",
              "      <th>51</th>\n",
              "      <td>11/07/2003</td>\n",
              "      <td>Female</td>\n",
              "    </tr>\n",
              "    <tr>\n",
              "      <th>52</th>\n",
              "      <td>09/10/1993</td>\n",
              "      <td>Female</td>\n",
              "    </tr>\n",
              "    <tr>\n",
              "      <th>53</th>\n",
              "      <td>NaN</td>\n",
              "      <td>Female</td>\n",
              "    </tr>\n",
              "    <tr>\n",
              "      <th>54</th>\n",
              "      <td>04/03/1992</td>\n",
              "      <td>Female</td>\n",
              "    </tr>\n",
              "    <tr>\n",
              "      <th>55</th>\n",
              "      <td>22/02/1996</td>\n",
              "      <td>Female</td>\n",
              "    </tr>\n",
              "    <tr>\n",
              "      <th>56</th>\n",
              "      <td>16/01/1994</td>\n",
              "      <td>Female</td>\n",
              "    </tr>\n",
              "    <tr>\n",
              "      <th>57</th>\n",
              "      <td>28/10/1990</td>\n",
              "      <td>Female</td>\n",
              "    </tr>\n",
              "    <tr>\n",
              "      <th>58</th>\n",
              "      <td>03/01/1982</td>\n",
              "      <td>Female</td>\n",
              "    </tr>\n",
              "    <tr>\n",
              "      <th>59</th>\n",
              "      <td>04/03/1992</td>\n",
              "      <td>Female</td>\n",
              "    </tr>\n",
              "    <tr>\n",
              "      <th>60</th>\n",
              "      <td>30/07/1993</td>\n",
              "      <td>Female</td>\n",
              "    </tr>\n",
              "  </tbody>\n",
              "</table>\n",
              "</div>\n",
              "      <button class=\"colab-df-convert\" onclick=\"convertToInteractive('df-e0d67128-3743-47d3-9853-8628b26c6190')\"\n",
              "              title=\"Convert this dataframe to an interactive table.\"\n",
              "              style=\"display:none;\">\n",
              "        \n",
              "  <svg xmlns=\"http://www.w3.org/2000/svg\" height=\"24px\"viewBox=\"0 0 24 24\"\n",
              "       width=\"24px\">\n",
              "    <path d=\"M0 0h24v24H0V0z\" fill=\"none\"/>\n",
              "    <path d=\"M18.56 5.44l.94 2.06.94-2.06 2.06-.94-2.06-.94-.94-2.06-.94 2.06-2.06.94zm-11 1L8.5 8.5l.94-2.06 2.06-.94-2.06-.94L8.5 2.5l-.94 2.06-2.06.94zm10 10l.94 2.06.94-2.06 2.06-.94-2.06-.94-.94-2.06-.94 2.06-2.06.94z\"/><path d=\"M17.41 7.96l-1.37-1.37c-.4-.4-.92-.59-1.43-.59-.52 0-1.04.2-1.43.59L10.3 9.45l-7.72 7.72c-.78.78-.78 2.05 0 2.83L4 21.41c.39.39.9.59 1.41.59.51 0 1.02-.2 1.41-.59l7.78-7.78 2.81-2.81c.8-.78.8-2.07 0-2.86zM5.41 20L4 18.59l7.72-7.72 1.47 1.35L5.41 20z\"/>\n",
              "  </svg>\n",
              "      </button>\n",
              "      \n",
              "  <style>\n",
              "    .colab-df-container {\n",
              "      display:flex;\n",
              "      flex-wrap:wrap;\n",
              "      gap: 12px;\n",
              "    }\n",
              "\n",
              "    .colab-df-convert {\n",
              "      background-color: #E8F0FE;\n",
              "      border: none;\n",
              "      border-radius: 50%;\n",
              "      cursor: pointer;\n",
              "      display: none;\n",
              "      fill: #1967D2;\n",
              "      height: 32px;\n",
              "      padding: 0 0 0 0;\n",
              "      width: 32px;\n",
              "    }\n",
              "\n",
              "    .colab-df-convert:hover {\n",
              "      background-color: #E2EBFA;\n",
              "      box-shadow: 0px 1px 2px rgba(60, 64, 67, 0.3), 0px 1px 3px 1px rgba(60, 64, 67, 0.15);\n",
              "      fill: #174EA6;\n",
              "    }\n",
              "\n",
              "    [theme=dark] .colab-df-convert {\n",
              "      background-color: #3B4455;\n",
              "      fill: #D2E3FC;\n",
              "    }\n",
              "\n",
              "    [theme=dark] .colab-df-convert:hover {\n",
              "      background-color: #434B5C;\n",
              "      box-shadow: 0px 1px 3px 1px rgba(0, 0, 0, 0.15);\n",
              "      filter: drop-shadow(0px 1px 2px rgba(0, 0, 0, 0.3));\n",
              "      fill: #FFFFFF;\n",
              "    }\n",
              "  </style>\n",
              "\n",
              "      <script>\n",
              "        const buttonEl =\n",
              "          document.querySelector('#df-e0d67128-3743-47d3-9853-8628b26c6190 button.colab-df-convert');\n",
              "        buttonEl.style.display =\n",
              "          google.colab.kernel.accessAllowed ? 'block' : 'none';\n",
              "\n",
              "        async function convertToInteractive(key) {\n",
              "          const element = document.querySelector('#df-e0d67128-3743-47d3-9853-8628b26c6190');\n",
              "          const dataTable =\n",
              "            await google.colab.kernel.invokeFunction('convertToInteractive',\n",
              "                                                     [key], {});\n",
              "          if (!dataTable) return;\n",
              "\n",
              "          const docLinkHtml = 'Like what you see? Visit the ' +\n",
              "            '<a target=\"_blank\" href=https://colab.research.google.com/notebooks/data_table.ipynb>data table notebook</a>'\n",
              "            + ' to learn more about interactive tables.';\n",
              "          element.innerHTML = '';\n",
              "          dataTable['output_type'] = 'display_data';\n",
              "          await google.colab.output.renderOutput(dataTable, element);\n",
              "          const docLink = document.createElement('div');\n",
              "          docLink.innerHTML = docLinkHtml;\n",
              "          element.appendChild(docLink);\n",
              "        }\n",
              "      </script>\n",
              "    </div>\n",
              "  </div>\n",
              "  "
            ]
          },
          "metadata": {},
          "execution_count": 23
        }
      ]
    },
    {
      "cell_type": "code",
      "source": [
        "print(df.describe())  # returns statistical information for the whole DataFrame\n",
        "                      # these measure are calculated onlt for numerical data\n",
        "\n",
        "# Print each statistical measure separately\n",
        "print('Mean values:\\n',df.mean(),'\\n')\n",
        "print('Std values:\\n',df.std(),'\\n')\n",
        "print('Min values:\\n',df.min(),'\\n')\n",
        "print('Max values:\\n',df.max(),'\\n')\n",
        "print('First quantile values:\\n',df.quantile(0.25),'\\n')\n",
        "print('Third quantile values:\\n',df.quantile(0.75),'\\n')"
      ],
      "metadata": {
        "colab": {
          "base_uri": "https://localhost:8080/"
        },
        "id": "8W2Aa46Wwmm-",
        "outputId": "0568e9a3-3bde-402f-dfd5-5cc679159f5a"
      },
      "execution_count": null,
      "outputs": [
        {
          "output_type": "stream",
          "name": "stdout",
          "text": [
            "Mean values:\n",
            " birthpositionfather    3.514507\n",
            "birthpositionmother    2.777563\n",
            "averagebreakperday     2.129032\n",
            "dtype: float64 \n",
            "\n",
            "Std values:\n",
            " birthpositionfather    2.621150\n",
            "birthpositionmother    1.996809\n",
            "averagebreakperday     2.226444\n",
            "dtype: float64 \n",
            "\n",
            "Min values:\n",
            " Timestamp              2020/04/12 10:55:12 PM GMT+1\n",
            "birthpositionfather                             1.0\n",
            "birthpositionmother                             1.0\n",
            "averagebreakperday                              0.0\n",
            "dtype: object \n",
            "\n",
            "Max values:\n",
            " Timestamp              2020/09/24 3:47:59 PM GMT+1\n",
            "birthpositionfather                           10.0\n",
            "birthpositionmother                           10.0\n",
            "averagebreakperday                            10.0\n",
            "dtype: object \n",
            "\n",
            "First quantile values:\n",
            " birthpositionfather    1.0\n",
            "birthpositionmother    1.0\n",
            "averagebreakperday     1.0\n",
            "Name: 0.25, dtype: float64 \n",
            "\n",
            "Third quantile values:\n",
            " birthpositionfather    5.0\n",
            "birthpositionmother    4.0\n",
            "averagebreakperday     3.0\n",
            "Name: 0.75, dtype: float64 \n",
            "\n"
          ]
        },
        {
          "output_type": "stream",
          "name": "stderr",
          "text": [
            "/usr/local/lib/python3.7/dist-packages/ipykernel_launcher.py:3: FutureWarning: Dropping of nuisance columns in DataFrame reductions (with 'numeric_only=None') is deprecated; in a future version this will raise TypeError.  Select only valid columns before calling the reduction.\n",
            "  This is separate from the ipykernel package so we can avoid doing imports until\n",
            "/usr/local/lib/python3.7/dist-packages/ipykernel_launcher.py:4: FutureWarning: Dropping of nuisance columns in DataFrame reductions (with 'numeric_only=None') is deprecated; in a future version this will raise TypeError.  Select only valid columns before calling the reduction.\n",
            "  after removing the cwd from sys.path.\n",
            "/usr/local/lib/python3.7/dist-packages/ipykernel_launcher.py:5: FutureWarning: Dropping of nuisance columns in DataFrame reductions (with 'numeric_only=None') is deprecated; in a future version this will raise TypeError.  Select only valid columns before calling the reduction.\n",
            "  \"\"\"\n",
            "/usr/local/lib/python3.7/dist-packages/ipykernel_launcher.py:6: FutureWarning: Dropping of nuisance columns in DataFrame reductions (with 'numeric_only=None') is deprecated; in a future version this will raise TypeError.  Select only valid columns before calling the reduction.\n",
            "  \n"
          ]
        }
      ]
    },
    {
      "cell_type": "code",
      "source": [
        "# This is a function to calculate outliers\n",
        "\n",
        "def find_outliers(df):\n",
        "  q1 = df.quantile(0.25)\n",
        "  q3 = df.quantile(0.75)\n",
        "  iqr = q3 - q1\n",
        "\n",
        "  # we have an outlier when\n",
        "  # value < q1 - 1.5*iqr\n",
        "  # OR\n",
        "  # value > q3 +1.5*iqr\n",
        "  outlier = df[ ( (df < (q1 - 1.5*iqr)) | (df > (q3 + 1.5*iqr)) ) ]\n",
        "\n",
        "  return outlier"
      ],
      "metadata": {
        "id": "uw_Oye1qyrTo"
      },
      "execution_count": null,
      "outputs": []
    },
    {
      "cell_type": "code",
      "source": [
        "# calling the function for a specific column of the DataFrame\n",
        "outlier = find_outliers(df['birthpositionmother'])\n",
        "outlier_len = len(outlier)\n",
        "print(outlier, outlier_len)"
      ],
      "metadata": {
        "colab": {
          "base_uri": "https://localhost:8080/"
        },
        "id": "V5N2oxRS0Aj5",
        "outputId": "08a0f178-d210-49ea-960b-9b71544ee9a8"
      },
      "execution_count": null,
      "outputs": [
        {
          "output_type": "execute_result",
          "data": {
            "text/plain": [
              "24     10.0\n",
              "39     10.0\n",
              "57      9.0\n",
              "62     10.0\n",
              "154    10.0\n",
              "250    10.0\n",
              "283     9.0\n",
              "307    10.0\n",
              "334     9.0\n",
              "383    10.0\n",
              "535    10.0\n",
              "Name: birthpositionmother, dtype: float64"
            ]
          },
          "metadata": {},
          "execution_count": 34
        }
      ]
    },
    {
      "cell_type": "code",
      "source": [
        "# Finding null values and replacing them\n",
        "\n",
        "print(df.isnull()) # returns False/True depending if the data point is a null value or not\n",
        "df.isnull().sum() # the .sum() method will return the count of null values per column"
      ],
      "metadata": {
        "colab": {
          "base_uri": "https://localhost:8080/"
        },
        "id": "aysTxiuI1LVU",
        "outputId": "83ed145d-5251-4d6c-8901-6809ee80dfc4"
      },
      "execution_count": null,
      "outputs": [
        {
          "output_type": "execute_result",
          "data": {
            "text/plain": [
              "Timestamp                        0\n",
              "dob                             42\n",
              "gender                          16\n",
              "countryofresidence              24\n",
              "birthpositionfather             25\n",
              "birthpositionmother             25\n",
              "ethnicity                       16\n",
              "highesteducation                15\n",
              "occupation                      28\n",
              "averagedayworkinghours          46\n",
              "averagebreakperday              46\n",
              "averageyearholiday              24\n",
              "maritalstatus                   13\n",
              "homeresidentialstatus           13\n",
              "hometype                        16\n",
              "religion                        14\n",
              "childhoodliving                 12\n",
              "currentliving                   12\n",
              "psychoactivesubstance           14\n",
              "ageofpsychoactivesubstance      31\n",
              "mentalhealthhistory             11\n",
              "yearofdiagnosis                474\n",
              "mentalsymptoms                 461\n",
              "mentalhealthtype               461\n",
              "mentalhealthtreatment          463\n",
              "medications                    494\n",
              "everadmittedformentalhealth    461\n",
              " admissionage                  502\n",
              "treatmentcarepathway           473\n",
              "chronicillness                 468\n",
              "fatherdeadoralive               12\n",
              "deathcausefather               360\n",
              "fatherdeathdate                383\n",
              "fatherageatdeath               363\n",
              "dobfather                      159\n",
              "farthermaritalstatus            36\n",
              "motherdeadoralive               15\n",
              "deathcausemother               467\n",
              "motherdeathdate                483\n",
              "motherdeathage                 468\n",
              "dobmother                      133\n",
              "mothermaritalstatus             27\n",
              "familybackground                23\n",
              "familymentalhealthhistory       10\n",
              "sucideinfamily                  30\n",
              "householdincome                 12\n",
              "last3weeksfeeling               13\n",
              "chronicillnesses                40\n",
              "forensicissues                  11\n",
              "homicidehistory                 12\n",
              "socialmediauasge                11\n",
              "socialmediauseperday            13\n",
              "dtype: int64"
            ]
          },
          "metadata": {},
          "execution_count": 37
        }
      ]
    },
    {
      "cell_type": "code",
      "source": [
        "# We can delete entire columns / rows using the .drop() method on our DataFrame\n",
        "# We need to specify the exact name of the column\n",
        "# axis = 1 --> column , axis = 0 --> row (if you need to delete a row)\n",
        "# inplace = True --> If specified, the column will be deleted on the original DataFrame\n",
        "#                    If you don't specify it, then a NEW DataFrame will be created and to you will need to assign it\n",
        "#                    to a variable in order to save it\n",
        "\n",
        "updated_df = df.drop(' admissionage' ,axis=1) # drop a column and store to new DataFrame\n",
        "updated_df.info()\n",
        "\n",
        "# delete column with inplace attribute\n",
        "df.drop(' admissionage' ,axis=1, inplace=True)\n",
        "df.info()"
      ],
      "metadata": {
        "id": "vXPIi28A1v5Y"
      },
      "execution_count": null,
      "outputs": []
    },
    {
      "cell_type": "code",
      "source": [
        "# We can fill in null values of a column by using the .fillna() method\n",
        "# In the method we need to specify HOW the values will be filled in\n",
        "# This can be with a simple number, a false value (random value within a range), or some statistical measure (like the mean value of the column)\n",
        "\n",
        "print('Mean: ', df['birthpositionfather'].mean())\n",
        "# Fill in the null values of the 'birthpositionfather' column with the mean value of 'birthpositionfather'\n",
        "df['birthpositionfather'].fillna(df['birthpositionfather'].mean()).loc[0:19]\n",
        "\n",
        "# Fill in the null values of 'birthpositionfather' with the number 3.0\n",
        "# df['birthpositionfather'].fillna(3.0).loc[0:19]"
      ],
      "metadata": {
        "colab": {
          "base_uri": "https://localhost:8080/"
        },
        "id": "btVbRsM_3aiV",
        "outputId": "1649dbca-52c6-43e7-e700-169d7119624b"
      },
      "execution_count": null,
      "outputs": [
        {
          "output_type": "stream",
          "name": "stdout",
          "text": [
            "Mean:  3.514506769825919\n"
          ]
        },
        {
          "output_type": "execute_result",
          "data": {
            "text/plain": [
              "0     3.0\n",
              "1     2.0\n",
              "2     1.0\n",
              "3     4.0\n",
              "4     1.0\n",
              "5     3.0\n",
              "6     2.0\n",
              "7     1.0\n",
              "8     4.0\n",
              "9     1.0\n",
              "10    5.0\n",
              "11    1.0\n",
              "12    4.0\n",
              "13    1.0\n",
              "14    1.0\n",
              "15    3.0\n",
              "16    8.0\n",
              "17    3.0\n",
              "18    2.0\n",
              "19    1.0\n",
              "Name: birthpositionfather, dtype: float64"
            ]
          },
          "metadata": {},
          "execution_count": 51
        }
      ]
    }
  ]
}