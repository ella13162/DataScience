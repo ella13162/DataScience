{
  "nbformat": 4,
  "nbformat_minor": 0,
  "metadata": {
    "colab": {
      "private_outputs": true,
      "provenance": [],
      "include_colab_link": true
    },
    "kernelspec": {
      "name": "python3",
      "display_name": "Python 3"
    },
    "language_info": {
      "name": "python"
    }
  },
  "cells": [
    {
      "cell_type": "markdown",
      "metadata": {
        "id": "view-in-github",
        "colab_type": "text"
      },
      "source": [
        "<a href=\"https://colab.research.google.com/github/ella13162/DataScience/blob/main/DS_Advanced_Code_Template_Students_.ipynb\" target=\"_parent\"><img src=\"https://colab.research.google.com/assets/colab-badge.svg\" alt=\"Open In Colab\"/></a>"
      ]
    },
    {
      "cell_type": "markdown",
      "source": [
        "# LINEAR REGRESSION - \"supermarket_sales - Sheet1\" dataset"
      ],
      "metadata": {
        "id": "ET8tW_HprkhX"
      }
    },
    {
      "cell_type": "markdown",
      "source": [
        "<hr>\n",
        "import required packages<br>\n",
        "<hr>"
      ],
      "metadata": {
        "id": "OHcx9udotw63"
      }
    },
    {
      "cell_type": "code",
      "source": [
        "# your code goes here\n",
        "\n",
        "import pandas as pd\n",
        "import numpy as np\n",
        "import matplotlib.pyplot as plt\n",
        "import seaborn as sns\n",
        "from sklearn.utils import shuffle\n",
        "from sklearn.linear_model import LinearRegression\n",
        "from sklearn.ensemble import RandomForestRegressor\n",
        "from xgboost import XGBRegressor\n",
        "from sklearn.model_selection import train_test_split\n",
        "from sklearn.model_selection import cross_val_score\n",
        "from sklearn.model_selection import GridSearchCV\n",
        "\n",
        "from sklearn.metrics import r2_score\n",
        "from sklearn.metrics import mean_squared_error\n",
        "from sklearn.metrics import mean_absolute_error\n",
        "from sklearn.preprocessing import StandardScaler\n",
        "from sklearn.preprocessing import LabelEncoder\n",
        "\n",
        "from sklearn.impute import SimpleImputer\n",
        "from sklearn.impute import KNNImputer\n"
      ],
      "metadata": {
        "id": "YvMUXTWG3FT6"
      },
      "execution_count": null,
      "outputs": []
    },
    {
      "cell_type": "markdown",
      "source": [
        "<hr>\n",
        "import sample data - supermarket_sales - Sheet1.csv\n",
        "<hr>"
      ],
      "metadata": {
        "id": "yi__uVj-t337"
      }
    },
    {
      "cell_type": "code",
      "source": [
        "# your code goes here\n",
        "from google.colab import files\n",
        "uploaded = files.upload()\n"
      ],
      "metadata": {
        "id": "NH9HnNKy66Eg"
      },
      "execution_count": null,
      "outputs": []
    },
    {
      "cell_type": "code",
      "source": [
        "df = pd.read_csv('supermarket_sales - Sheet1.csv')\n",
        "print(df)\n",
        "df.columns"
      ],
      "metadata": {
        "id": "IXgN7MdLZ08n"
      },
      "execution_count": null,
      "outputs": []
    },
    {
      "cell_type": "markdown",
      "source": [
        "drop unnecessary columns"
      ],
      "metadata": {
        "id": "d7dMO4_St31L"
      }
    },
    {
      "cell_type": "code",
      "source": [
        "# your code goes here\n",
        "df = df.drop('Time', axis=1)"
      ],
      "metadata": {
        "id": "v5w6GdlngKhG"
      },
      "execution_count": null,
      "outputs": []
    },
    {
      "cell_type": "code",
      "source": [
        "df = df.drop('Invoice ID', axis=1)"
      ],
      "metadata": {
        "id": "27OS3TcteTWD"
      },
      "execution_count": null,
      "outputs": []
    },
    {
      "cell_type": "code",
      "source": [
        "print(df.head())  # Show the first few rows\n",
        "print(df.columns)  # Show all column names\n"
      ],
      "metadata": {
        "id": "zoWtkxiHi_cn"
      },
      "execution_count": null,
      "outputs": []
    },
    {
      "cell_type": "code",
      "source": [
        "print(df)"
      ],
      "metadata": {
        "id": "eLYeq_NEa34i"
      },
      "execution_count": null,
      "outputs": []
    },
    {
      "cell_type": "markdown",
      "source": [
        "shuffle data"
      ],
      "metadata": {
        "id": "PhVzJGHSt3vW"
      }
    },
    {
      "cell_type": "code",
      "source": [
        "# your code goes here\n",
        "df = shuffle(df)\n"
      ],
      "metadata": {
        "id": "blEL23jxgLkB"
      },
      "execution_count": null,
      "outputs": []
    },
    {
      "cell_type": "code",
      "source": [
        "print(df)"
      ],
      "metadata": {
        "id": "vIJ0nJWBjLFR"
      },
      "execution_count": null,
      "outputs": []
    },
    {
      "cell_type": "markdown",
      "source": [
        "handle missing values"
      ],
      "metadata": {
        "id": "DM1aSE0nuCw2"
      }
    },
    {
      "cell_type": "code",
      "source": [
        "df.isnull().sum()"
      ],
      "metadata": {
        "id": "Pn0pNJWdkLRu"
      },
      "execution_count": null,
      "outputs": []
    },
    {
      "cell_type": "code",
      "source": [
        "# your code goes here\n",
        "imputer = SimpleImputer(strategy='mean')\n",
        "df['Rating'] = imputer.fit_transform(df[['Rating']])\n",
        "\n"
      ],
      "metadata": {
        "id": "gjpsH81AgMqu"
      },
      "execution_count": null,
      "outputs": []
    },
    {
      "cell_type": "code",
      "source": [
        "df_numerical_feature = df.select_dtypes(include=['float64', 'int64'])\n",
        "df_categorical_feature = df.select_dtypes(include=['object'])\n",
        "\n",
        "df_numerical_feature.head()"
      ],
      "metadata": {
        "id": "idogtcEUoS95"
      },
      "execution_count": null,
      "outputs": []
    },
    {
      "cell_type": "markdown",
      "source": [
        "handle outliers"
      ],
      "metadata": {
        "id": "ITGjFGKPuCuL"
      }
    },
    {
      "cell_type": "code",
      "source": [
        "df.columns"
      ],
      "metadata": {
        "id": "mbge82IUlb1m"
      },
      "execution_count": null,
      "outputs": []
    },
    {
      "cell_type": "code",
      "source": [
        "df.describe()"
      ],
      "metadata": {
        "id": "ZIHRK7E8kWxI"
      },
      "execution_count": null,
      "outputs": []
    },
    {
      "cell_type": "code",
      "source": [
        "df['Total'].skew()"
      ],
      "metadata": {
        "id": "ryIz2mTWkwz_"
      },
      "execution_count": null,
      "outputs": []
    },
    {
      "cell_type": "markdown",
      "source": [
        "handle categorical variables"
      ],
      "metadata": {
        "id": "4RcbzfNhuNpz"
      }
    },
    {
      "cell_type": "code",
      "source": [
        "# your code goes here"
      ],
      "metadata": {
        "id": "z_NxQLdAgPsp"
      },
      "execution_count": null,
      "outputs": []
    },
    {
      "cell_type": "markdown",
      "source": [
        "split input variables and the output variable"
      ],
      "metadata": {
        "id": "ctUrIg1RuCrn"
      }
    },
    {
      "cell_type": "code",
      "source": [
        "# your code goes here"
      ],
      "metadata": {
        "id": "SbbLt1VLgOh3"
      },
      "execution_count": null,
      "outputs": []
    },
    {
      "cell_type": "markdown",
      "source": [
        "feature scaling"
      ],
      "metadata": {
        "id": "Hv-3yrNsuNnF"
      }
    },
    {
      "cell_type": "code",
      "source": [
        "# your code goes here"
      ],
      "metadata": {
        "id": "xSwUl4NAgQuE"
      },
      "execution_count": null,
      "outputs": []
    },
    {
      "cell_type": "markdown",
      "source": [
        "split training and test sets"
      ],
      "metadata": {
        "id": "fccXpFd8uM2H"
      }
    },
    {
      "cell_type": "code",
      "source": [
        "# your code goes here"
      ],
      "metadata": {
        "id": "iyXOc93MgSd4"
      },
      "execution_count": null,
      "outputs": []
    },
    {
      "cell_type": "markdown",
      "source": [
        "cross validation - hyperparameter optimization"
      ],
      "metadata": {
        "id": "ChbS8qqvul4P"
      }
    },
    {
      "cell_type": "code",
      "source": [
        "# your code goes here"
      ],
      "metadata": {
        "id": "ZnphgtRTgVBA"
      },
      "execution_count": null,
      "outputs": []
    },
    {
      "cell_type": "markdown",
      "source": [
        "cross validation - hyperparameter optimization <br>\n",
        "#####Linear Regression"
      ],
      "metadata": {
        "id": "Y7mjUBPFV5pn"
      }
    },
    {
      "cell_type": "code",
      "source": [
        "# your code goes here"
      ],
      "metadata": {
        "id": "5L3El-9UV7dx"
      },
      "execution_count": null,
      "outputs": []
    },
    {
      "cell_type": "markdown",
      "source": [
        "cross validation - hyperparameter optimization <br>\n",
        "#####Random Forest Regressor"
      ],
      "metadata": {
        "id": "qge4VF5SV-JV"
      }
    },
    {
      "cell_type": "code",
      "source": [
        "# your code goes here"
      ],
      "metadata": {
        "id": "7bb5l6opWB3W"
      },
      "execution_count": null,
      "outputs": []
    },
    {
      "cell_type": "markdown",
      "source": [
        "cross validation - hyperparameter optimization <br>\n",
        "#####XGB Regressor"
      ],
      "metadata": {
        "id": "v0767kKXWE2Z"
      }
    },
    {
      "cell_type": "code",
      "source": [
        "# your code goes here"
      ],
      "metadata": {
        "id": "onZOCImiWJj9"
      },
      "execution_count": null,
      "outputs": []
    },
    {
      "cell_type": "markdown",
      "source": [
        "model training<br>\n",
        "1. Linear Regression\n",
        "2. Random Forest Regressor\n",
        "3. XGB Regressor"
      ],
      "metadata": {
        "id": "Ox4FK6H-uNgz"
      }
    },
    {
      "cell_type": "code",
      "source": [
        "# your code goes here"
      ],
      "metadata": {
        "id": "_M4X3HzYgRjI"
      },
      "execution_count": null,
      "outputs": []
    },
    {
      "cell_type": "markdown",
      "source": [
        "model assessment"
      ],
      "metadata": {
        "id": "FIT6Bp49uNMz"
      }
    },
    {
      "cell_type": "code",
      "source": [
        "# your code goes here\n",
        "\n",
        "  # XGB Regressor\n",
        "  # r2_score:\n",
        "  # RMSE:\n",
        "  # MAE:\n",
        "\n",
        "  # Random Forest Regressor\n",
        "  # r2_score:\n",
        "  # RMSE:\n",
        "  # MAE:\n",
        "\n",
        "  # Linear Regression\n",
        "  # r2_score:\n",
        "  # RMSE:\n",
        "  # MAE:"
      ],
      "metadata": {
        "id": "vHO5m6FqgTPY"
      },
      "execution_count": null,
      "outputs": []
    },
    {
      "cell_type": "markdown",
      "source": [
        "predict data"
      ],
      "metadata": {
        "id": "pZueOWNOul9U"
      }
    },
    {
      "cell_type": "code",
      "source": [
        "# your code goes here"
      ],
      "metadata": {
        "id": "1LPxGIEqgUNE"
      },
      "execution_count": null,
      "outputs": []
    }
  ]
}