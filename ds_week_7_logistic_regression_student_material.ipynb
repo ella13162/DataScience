{
  "nbformat": 4,
  "nbformat_minor": 0,
  "metadata": {
    "colab": {
      "private_outputs": true,
      "provenance": [],
      "include_colab_link": true
    },
    "kernelspec": {
      "name": "python3",
      "display_name": "Python 3"
    },
    "language_info": {
      "name": "python"
    }
  },
  "cells": [
    {
      "cell_type": "markdown",
      "metadata": {
        "id": "view-in-github",
        "colab_type": "text"
      },
      "source": [
        "<a href=\"https://colab.research.google.com/github/ella13162/DataScience/blob/main/ds_week_7_logistic_regression_student_material.ipynb\" target=\"_parent\"><img src=\"https://colab.research.google.com/assets/colab-badge.svg\" alt=\"Open In Colab\"/></a>"
      ]
    },
    {
      "cell_type": "markdown",
      "source": [
        "# Import dependencies"
      ],
      "metadata": {
        "id": "Q4la43ogaHnF"
      }
    },
    {
      "cell_type": "markdown",
      "source": [
        "# Read in the data and shuffle it"
      ],
      "metadata": {
        "id": "sBYmaHKVaTxv"
      }
    },
    {
      "cell_type": "markdown",
      "source": [
        "# Examine the Distribution of the Target Column"
      ],
      "metadata": {
        "id": "2tRaH4jqaZC5"
      }
    },
    {
      "cell_type": "markdown",
      "source": [
        "# Generate a countplot with Seaborn Countplot and the \"hue\" parameter"
      ],
      "metadata": {
        "id": "GrF10RxjaZAA"
      }
    },
    {
      "cell_type": "markdown",
      "source": [
        "# Handle Missing Data"
      ],
      "metadata": {
        "id": "n8f4YWSfaY9C"
      }
    },
    {
      "cell_type": "markdown",
      "source": [
        "### Handle Missing Data of Feature: Age"
      ],
      "metadata": {
        "id": "0a1bRSa1b1Df"
      }
    },
    {
      "cell_type": "code",
      "source": [
        "### Option 1: (we will use Option 2 below)\n",
        "#### Impute the missing age data with the mean of each passenger class\n",
        "\n",
        "def add_age(cols):\n",
        "    Age = cols[0]\n",
        "    Pclass = cols[1]\n",
        "    if pd.isnull(Age):\n",
        "        return int(df[df[\"Pclass\"] == Pclass][\"Age\"].mean())\n",
        "    else:\n",
        "        return Age\n",
        "\n",
        "\n",
        "df['Age'] = df[['Age','Pclass']].apply(add_age,axis=1)"
      ],
      "metadata": {
        "id": "uiKcSNgsbjIF"
      },
      "execution_count": null,
      "outputs": []
    },
    {
      "cell_type": "code",
      "source": [
        "# Option 2 - we will go with this option\n",
        "\n",
        "# Consider every missing data in the age as a missing passenger\n",
        "df[\"Age\"] = df[\"Age\"].fillna(-0.5)"
      ],
      "metadata": {
        "id": "IXnDrSARbrIu"
      },
      "execution_count": null,
      "outputs": []
    },
    {
      "cell_type": "markdown",
      "source": [
        "### Handle Missing Data of Feature: Cabin"
      ],
      "metadata": {
        "id": "NdtGZm_ab62b"
      }
    },
    {
      "cell_type": "markdown",
      "source": [
        "### Handle Missing Data of Feature: Embarked"
      ],
      "metadata": {
        "id": "rgK8Q2PqcDc8"
      }
    },
    {
      "cell_type": "markdown",
      "source": [
        "# Create a New Feature: FamilySize by combining Parch and SibSp"
      ],
      "metadata": {
        "id": "q2ltSWYKcSBf"
      }
    },
    {
      "cell_type": "markdown",
      "source": [
        "# Convert Age Feature (it is a continuous data) Into An Age Range Feature (into a categorical data, you can call it Age_Group)"
      ],
      "metadata": {
        "id": "SAq-OnXFco37"
      }
    },
    {
      "cell_type": "code",
      "source": [
        "# For age group :\n",
        "# -1 to 0 => Missing\n",
        "# 0 to 5 => Infant\n",
        "# 5 to 12 => Child\n",
        "# 12 to 18 => Teenager\n",
        "# 18 to 35 => Young Adult\n",
        "# 35 to 60 => Adult\n",
        "# 60 to 100 => Senior\n",
        "\n"
      ],
      "metadata": {
        "id": "w3flUvpQc9Hu"
      },
      "execution_count": null,
      "outputs": []
    },
    {
      "cell_type": "markdown",
      "source": [
        "# Create a Pivot Table for the Age_Group Field"
      ],
      "metadata": {
        "id": "1jkHo-TWdT-H"
      }
    },
    {
      "cell_type": "code",
      "source": [
        "pivot = df.pivot_table(index=\"Age_Group\",values='Survived')\n",
        "pivot.plot.bar()"
      ],
      "metadata": {
        "id": "_9QG2Q5Sd32f"
      },
      "execution_count": null,
      "outputs": []
    },
    {
      "cell_type": "markdown",
      "source": [
        "# Encode Categorical Variables with OneHotEncoder"
      ],
      "metadata": {
        "id": "0nykTkr0t1JK"
      }
    },
    {
      "cell_type": "code",
      "source": [],
      "metadata": {
        "id": "tsVnXpnOuBWv"
      },
      "execution_count": null,
      "outputs": []
    },
    {
      "cell_type": "code",
      "source": [
        "from sklearn.model_selection import train_test_split\n",
        "from sklearn.linear_model import LogisticRegression\n",
        "from sklearn.metrics import accuracy_score, confusion_matrix, precision_score, recall_score, f1_score"
      ],
      "metadata": {
        "id": "C2Ow_Ov8uDVK"
      },
      "execution_count": null,
      "outputs": []
    },
    {
      "cell_type": "markdown",
      "source": [
        "# Split the data into input variables and output variable"
      ],
      "metadata": {
        "id": "oKMhj8R5uKc3"
      }
    },
    {
      "cell_type": "markdown",
      "source": [
        "# Model the Data with Logistic Regression Algorithm"
      ],
      "metadata": {
        "id": "3C6RblCkuSRJ"
      }
    },
    {
      "cell_type": "code",
      "source": [
        "# Complete the following lines:\n",
        "\n",
        "# model =\n",
        "# model.fit()\n",
        "# y_pred ="
      ],
      "metadata": {
        "id": "E_P3hAQ00b0x"
      },
      "execution_count": null,
      "outputs": []
    },
    {
      "cell_type": "markdown",
      "source": [
        "# Construct Confusion Matrix"
      ],
      "metadata": {
        "id": "0XvB0e9s0q30"
      }
    },
    {
      "cell_type": "markdown",
      "source": [
        "# Run the Relevant Metrics"
      ],
      "metadata": {
        "id": "h5hcKfsf4_Sd"
      }
    },
    {
      "cell_type": "markdown",
      "source": [
        "### Accuracy Score"
      ],
      "metadata": {
        "id": "dPeYQ27q5EGd"
      }
    },
    {
      "cell_type": "markdown",
      "source": [
        "### Precision"
      ],
      "metadata": {
        "id": "vYPNVJIP5HiV"
      }
    },
    {
      "cell_type": "markdown",
      "source": [
        "### Recall"
      ],
      "metadata": {
        "id": "LsIuOvfB5Kcm"
      }
    },
    {
      "cell_type": "markdown",
      "source": [
        "### F1 Score"
      ],
      "metadata": {
        "id": "J8MWSuos5MpO"
      }
    }
  ]
}